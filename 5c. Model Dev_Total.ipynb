{
 "cells": [
  {
   "cell_type": "code",
   "execution_count": 1,
   "id": "a06c1ec9",
   "metadata": {},
   "outputs": [],
   "source": [
    "import os, json\n",
    "import pandas as pd\n",
    "import numpy as np\n",
    "import seaborn as sns\n",
    "from sklearn.neighbors import KNeighborsClassifier\n",
    "from sklearn.naive_bayes import GaussianNB\n",
    "from sklearn.model_selection import train_test_split\n",
    "import matplotlib.pyplot as plt\n",
    "from sklearn.svm import SVC\n",
    "from sklearn import svm\n",
    "import time\n",
    "from sklearn.metrics import accuracy_score, confusion_matrix, ConfusionMatrixDisplay, classification_report,\\\n",
    "    precision_score, recall_score, roc_auc_score\n",
    "from sklearn.linear_model import LogisticRegression\n",
    "from sklearn.model_selection import  GridSearchCV, cross_val_predict\n",
    "from sklearn.ensemble import RandomForestClassifier\n",
    "import lightgbm as lgb\n",
    "from xgboost import XGBClassifier\n",
    "import time\n",
    "from collections import defaultdict\n",
    "from sklearn.preprocessing import StandardScaler"
   ]
  },
  {
   "cell_type": "code",
   "execution_count": 2,
   "id": "294b4bb5",
   "metadata": {},
   "outputs": [],
   "source": [
    "pd.set_option('display.max_columns', None)\n",
    "games = pd.read_csv('data/full_data.csv',index_col=0)"
   ]
  },
  {
   "cell_type": "code",
   "execution_count": 3,
   "id": "424ca3b3",
   "metadata": {},
   "outputs": [],
   "source": [
    "games['total_win'] = np.where(games['total_pts']>games['OverUnder'],1,0)"
   ]
  },
  {
   "cell_type": "code",
   "execution_count": 4,
   "id": "405c6057",
   "metadata": {},
   "outputs": [],
   "source": [
    "away_offense = ['QB1_away','RB1_away','RB2_away', 'WR1_away', 'WR2_away','WR3_away', 'WR4_away', 'TE1_away','TE2_away']\n",
    "home_offense = ['QB1_home','RB1_home', 'RB2_home', 'WR1_home','WR2_home', 'WR3_home', 'WR4_home','TE1_home', 'TE2_home']\n",
    "games['away_off_total'] = games.filter(away_offense).sum(axis = 1)\n",
    "games['home_off_total'] = games.filter(away_offense).sum(axis = 1)\n",
    "games['total_offense_sal'] = games['away_off_total'] + games['home_off_total']"
   ]
  },
  {
   "cell_type": "code",
   "execution_count": 5,
   "id": "3af70ab9",
   "metadata": {},
   "outputs": [
    {
     "name": "stderr",
     "output_type": "stream",
     "text": [
      "C:\\Users\\binga\\anaconda3\\lib\\site-packages\\pandas\\util\\_decorators.py:311: SettingWithCopyWarning: \n",
      "A value is trying to be set on a copy of a slice from a DataFrame\n",
      "\n",
      "See the caveats in the documentation: https://pandas.pydata.org/pandas-docs/stable/user_guide/indexing.html#returning-a-view-versus-a-copy\n",
      "  return func(*args, **kwargs)\n"
     ]
    }
   ],
   "source": [
    "games_2022 = games.loc[(games['season'] == 2022) & (games['Week'] != 13)]\n",
    "games_dev = games.loc[games['season'] != 2022]\n",
    "games_dev.dropna(subset=['QB1_home'], axis = 0, inplace = True)"
   ]
  },
  {
   "cell_type": "code",
   "execution_count": 6,
   "id": "cea606f0",
   "metadata": {},
   "outputs": [],
   "source": [
    "pred_cols = ['DST1_away', 'DST1_home', 'QB1_away', 'QB1_home', 'RB1_away',\n",
    "       'RB1_home', 'RB2_away', 'RB2_home', 'WR1_away', 'WR1_home', 'WR2_away',\n",
    "       'WR2_home', 'WR3_away', 'WR3_home', 'WR4_away', 'WR4_home', 'TE1_away',\n",
    "       'TE1_home', 'TE2_away', 'TE2_home','away_off_total','home_off_total','total_offense_sal','PointSpread',\n",
    "        'AwayTeamMoneyLine','HomeTeamMoneyLine','OverUnder']"
   ]
  },
  {
   "cell_type": "code",
   "execution_count": 7,
   "id": "5e13771b",
   "metadata": {},
   "outputs": [],
   "source": [
    "x_train, x_test, y_train, y_test = train_test_split(games_dev.filter(pred_cols).fillna(0),games_dev['total_win'], test_size=0.25, random_state=44)"
   ]
  },
  {
   "cell_type": "code",
   "execution_count": 8,
   "id": "85ed0463",
   "metadata": {},
   "outputs": [],
   "source": [
    "scaler = StandardScaler()\n",
    "scaler.fit(x_train)\n",
    "x_train_scaled = scaler.transform(x_train)\n",
    "x_test_scaled = scaler.transform(x_test)"
   ]
  },
  {
   "cell_type": "code",
   "execution_count": 9,
   "id": "6cc3a56c",
   "metadata": {},
   "outputs": [],
   "source": [
    "random_state = 44"
   ]
  },
  {
   "cell_type": "code",
   "execution_count": 10,
   "id": "47b28003",
   "metadata": {},
   "outputs": [],
   "source": [
    "def plot_and_get_metrics(clf):\n",
    "    preds_pp = cross_val_predict(clf, x_train, y_train, cv=5, method='predict_proba')[:,1]\n",
    "    preds = preds_pp.round()\n",
    "    print(classification_report(y_train, preds))\n",
    "\n",
    "    clf_cv_acc = accuracy_score(y_train, preds)\n",
    "    clf_cv_prec = precision_score(y_train, preds)\n",
    "    clf_cv_recall = recall_score(y_train, preds)\n",
    "    clf_cv_auc = roc_auc_score(y_train, preds)\n",
    "\n",
    "    cm = confusion_matrix(y_train, preds, labels=clf.classes_)\n",
    "    disp = ConfusionMatrixDisplay(cm, display_labels=clf.classes_)\n",
    "    disp.plot()\n",
    "    plt.show()\n",
    "\n",
    "    return preds_pp, preds, clf_cv_acc, clf_cv_prec, clf_cv_recall, clf_cv_auc"
   ]
  },
  {
   "cell_type": "code",
   "execution_count": 11,
   "id": "7aea23d5",
   "metadata": {},
   "outputs": [],
   "source": [
    "def plot_and_get_metrics_scaled(clf):\n",
    "    preds_pp = cross_val_predict(clf, x_train_scaled, y_train, cv=5, method='predict_proba')[:,1]\n",
    "    preds = preds_pp.round()\n",
    "    print(classification_report(y_train, preds))\n",
    "\n",
    "    clf_cv_acc = accuracy_score(y_train, preds)\n",
    "    clf_cv_prec = precision_score(y_train, preds)\n",
    "    clf_cv_recall = recall_score(y_train, preds)\n",
    "    clf_cv_auc = roc_auc_score(y_train, preds)\n",
    "\n",
    "    cm = confusion_matrix(y_train, preds, labels=clf.classes_)\n",
    "    disp = ConfusionMatrixDisplay(cm, display_labels=clf.classes_)\n",
    "    disp.plot()\n",
    "    plt.show()\n",
    "\n",
    "    return preds_pp, preds, clf_cv_acc, clf_cv_prec, clf_cv_recall, clf_cv_auc"
   ]
  },
  {
   "cell_type": "markdown",
   "id": "eb5d458b",
   "metadata": {},
   "source": [
    "### KNN "
   ]
  },
  {
   "cell_type": "code",
   "execution_count": 12,
   "id": "fdb14b01",
   "metadata": {},
   "outputs": [
    {
     "name": "stdout",
     "output_type": "stream",
     "text": [
      "7.209737539291382\n"
     ]
    },
    {
     "data": {
      "text/plain": [
       "KNeighborsClassifier(n_jobs=-1, n_neighbors=30, weights='distance')"
      ]
     },
     "execution_count": 12,
     "metadata": {},
     "output_type": "execute_result"
    }
   ],
   "source": [
    "knn = KNeighborsClassifier()\n",
    "start_time = time.time()\n",
    "param_grid = {\n",
    "    'n_neighbors' : [num for num in range(2,34)],\n",
    "    'weights' : ['uniform','distance'],\n",
    "    'p': [1,2],\n",
    "    'n_jobs': [-1]\n",
    "}\n",
    "\n",
    "knn_grid = GridSearchCV(knn, param_grid, scoring='balanced_accuracy', n_jobs=-1)\n",
    "knn_grid.fit(x_train, y_train)\n",
    "best_knn = knn_grid.best_estimator_\n",
    "print(time.time() - start_time)\n",
    "best_knn"
   ]
  },
  {
   "cell_type": "code",
   "execution_count": 13,
   "id": "9b9a0889",
   "metadata": {},
   "outputs": [
    {
     "name": "stdout",
     "output_type": "stream",
     "text": [
      "              precision    recall  f1-score   support\n",
      "\n",
      "           0       0.51      0.55      0.53       589\n",
      "           1       0.50      0.46      0.48       570\n",
      "\n",
      "    accuracy                           0.51      1159\n",
      "   macro avg       0.50      0.50      0.50      1159\n",
      "weighted avg       0.51      0.51      0.50      1159\n",
      "\n"
     ]
    },
    {
     "data": {
      "image/png": "[encoded data removed]",
      "text/plain": [
       "<Figure size 432x288 with 2 Axes>"
      ]
     },
     "metadata": {
      "needs_background": "light"
     },
     "output_type": "display_data"
    }
   ],
   "source": [
    "knn_run = KNeighborsClassifier(n_neighbors = 21, weights = 'distance')\n",
    "best_knn = knn_run.fit(x_train,y_train)\n",
    "knn_preds_pp, knn_preds, knn_cv_acc, knn_cv_prec, knn_cv_recall, knn_cv_auc = plot_and_get_metrics(best_knn)"
   ]
  },
  {
   "cell_type": "markdown",
   "id": "8a572dd2",
   "metadata": {},
   "source": [
    "### Naive Bayes"
   ]
  },
  {
   "cell_type": "code",
   "execution_count": 14,
   "id": "8b9dd7b8",
   "metadata": {},
   "outputs": [
    {
     "name": "stdout",
     "output_type": "stream",
     "text": [
      "              precision    recall  f1-score   support\n",
      "\n",
      "           0       0.50      0.33      0.40       589\n",
      "           1       0.49      0.66      0.56       570\n",
      "\n",
      "    accuracy                           0.49      1159\n",
      "   macro avg       0.50      0.50      0.48      1159\n",
      "weighted avg       0.50      0.49      0.48      1159\n",
      "\n"
     ]
    },
    {
     "data": {
      "image/png": "[encoded data removed]",
      "text/plain": [
       "<Figure size 432x288 with 2 Axes>"
      ]
     },
     "metadata": {
      "needs_background": "light"
     },
     "output_type": "display_data"
    }
   ],
   "source": [
    "run_nb = GaussianNB()\n",
    "run_nb.fit(x_train,y_train)\n",
    "best_nb = run_nb\n",
    "nb_preds_pp, nb_preds, nb_cv_acc, nb_cv_prec, nb_cv_recall, nb_cv_auc = plot_and_get_metrics(run_nb)"
   ]
  },
  {
   "cell_type": "markdown",
   "id": "0b23afdb",
   "metadata": {},
   "source": [
    "### SVM"
   ]
  },
  {
   "cell_type": "code",
   "execution_count": 15,
   "id": "8eaae5ec",
   "metadata": {},
   "outputs": [
    {
     "name": "stdout",
     "output_type": "stream",
     "text": [
      "21.252392053604126\n"
     ]
    },
    {
     "data": {
      "text/plain": [
       "SVC(C=1.5, degree=2, kernel='linear', probability=True, random_state=44)"
      ]
     },
     "execution_count": 15,
     "metadata": {},
     "output_type": "execute_result"
    }
   ],
   "source": [
    "svm = SVC(probability = True, random_state = random_state, max_iter = -1)\n",
    "start_time = time.time()\n",
    "param_grid = {\n",
    "    'C' : [1,1.2,1.3,1.5,1.65,1.8,2],\n",
    "    'kernel' : ['poly','rbf','linear'],\n",
    "    'degree': [2,3],\n",
    "}\n",
    "\n",
    "svm_grid = GridSearchCV(svm, param_grid, scoring='balanced_accuracy', n_jobs=-1)\n",
    "svm_grid.fit(x_train_scaled, y_train)\n",
    "best_svm = svm_grid.best_estimator_\n",
    "print(time.time() - start_time)\n",
    "best_svm"
   ]
  },
  {
   "cell_type": "code",
   "execution_count": 16,
   "id": "82b4629b",
   "metadata": {},
   "outputs": [
    {
     "name": "stdout",
     "output_type": "stream",
     "text": [
      "              precision    recall  f1-score   support\n",
      "\n",
      "           0       0.51      0.85      0.63       589\n",
      "           1       0.47      0.14      0.21       570\n",
      "\n",
      "    accuracy                           0.50      1159\n",
      "   macro avg       0.49      0.49      0.42      1159\n",
      "weighted avg       0.49      0.50      0.43      1159\n",
      "\n"
     ]
    },
    {
     "data": {
      "image/png": "[encoded data removed]",
      "text/plain": [
       "<Figure size 432x288 with 2 Axes>"
      ]
     },
     "metadata": {
      "needs_background": "light"
     },
     "output_type": "display_data"
    }
   ],
   "source": [
    "run_svm = SVC(C=1.5, kernel='poly', max_iter=50, probability=True, random_state=44)\n",
    "svm_preds_pp, svm_preds, svm_cv_acc, svm_cv_prec, svm_cv_recall, svm_cv_auc = plot_and_get_metrics_scaled(best_svm)"
   ]
  },
  {
   "cell_type": "markdown",
   "id": "f26d88cf",
   "metadata": {},
   "source": [
    "### Random Forest"
   ]
  },
  {
   "cell_type": "code",
   "execution_count": 17,
   "id": "9858d1ef",
   "metadata": {},
   "outputs": [
    {
     "name": "stdout",
     "output_type": "stream",
     "text": [
      "1.64\n"
     ]
    },
    {
     "data": {
      "text/plain": [
       "RandomForestClassifier(class_weight='balanced', max_depth=15,\n",
       "                       min_samples_leaf=4, n_estimators=200, random_state=44)"
      ]
     },
     "execution_count": 17,
     "metadata": {},
     "output_type": "execute_result"
    }
   ],
   "source": [
    "start_time = time.time()\n",
    "rf = RandomForestClassifier(class_weight='balanced', random_state=random_state)\n",
    "param_grid = {\n",
    "    'n_estimators': [150,200,250],\n",
    "    'criterion': ['entropy', 'gini'],\n",
    "    'min_samples_leaf': [x for x in range(2,7)],\n",
    "    'max_depth': [5,10,15,20],\n",
    "    'bootstrap': [True]\n",
    "}\n",
    "rf_clf = GridSearchCV(estimator=rf, param_grid=param_grid, scoring='precision', n_jobs=-1)\n",
    "rf_clf.fit(x_train, y_train)\n",
    "best_rf = rf_clf.best_estimator_\n",
    "print(round((time.time() - start_time)/60, 2))\n",
    "best_rf"
   ]
  },
  {
   "cell_type": "code",
   "execution_count": 18,
   "id": "5c2dba97",
   "metadata": {},
   "outputs": [
    {
     "name": "stdout",
     "output_type": "stream",
     "text": [
      "              precision    recall  f1-score   support\n",
      "\n",
      "           0       0.53      0.53      0.53       589\n",
      "           1       0.52      0.52      0.52       570\n",
      "\n",
      "    accuracy                           0.53      1159\n",
      "   macro avg       0.53      0.53      0.53      1159\n",
      "weighted avg       0.53      0.53      0.53      1159\n",
      "\n"
     ]
    },
    {
     "data": {
      "image/png": "[encoded data removed]",
      "text/plain": [
       "<Figure size 432x288 with 2 Axes>"
      ]
     },
     "metadata": {
      "needs_background": "light"
     },
     "output_type": "display_data"
    }
   ],
   "source": [
    "rf_run = RandomForestClassifier(class_weight='balanced', criterion='entropy',\n",
    "                       max_depth=5, min_samples_leaf=6, n_estimators=250,\n",
    "                       random_state=44)\n",
    "rf_preds_pp, rf_preds, rf_cv_acc, rf_cv_prec, rf_cv_recall, rf_cv_auc = plot_and_get_metrics(best_rf)"
   ]
  },
  {
   "cell_type": "markdown",
   "id": "c6637ac2",
   "metadata": {},
   "source": [
    "### Light GBM"
   ]
  },
  {
   "cell_type": "code",
   "execution_count": 19,
   "id": "aff428a4",
   "metadata": {},
   "outputs": [
    {
     "name": "stdout",
     "output_type": "stream",
     "text": [
      "11.69\n"
     ]
    },
    {
     "data": {
      "text/plain": [
       "LGBMClassifier(class_weight='balanced', learning_rate=0.01, max_depth=10,\n",
       "               min_child_samples=2, n_estimators=150, random_state=44,\n",
       "               reg_alpha=0.1, reg_lambda=0.1)"
      ]
     },
     "execution_count": 19,
     "metadata": {},
     "output_type": "execute_result"
    }
   ],
   "source": [
    "start_time = time.time()\n",
    "lgbmc = lgb.LGBMClassifier(class_weight='balanced', random_state=random_state)\n",
    "\n",
    "param_grid = {\n",
    "    'max_depth': [5,10,15,20],\n",
    "    # 'num_leaves': [5, 10],\n",
    "    'learning_rate': [0.001, 0.01, 0.025],\n",
    "    'n_estimators': [150, 200, 250],\n",
    "    # 'feature_fraction': [0.5],\n",
    "    'min_child_samples': [x for x in range(2,5)],\n",
    "    'reg_alpha': [0.1, 0.5,1,1.5],\n",
    "    'reg_lambda': [0.1, 0.5,1,1.5]\n",
    "}\n",
    "\n",
    "lgbmc_clf = GridSearchCV(estimator=lgbmc,\n",
    "                         param_grid=param_grid,\n",
    "                         scoring='accuracy',\n",
    "                         cv=5,\n",
    "                         verbose=False,\n",
    "                         n_jobs=-1)\n",
    "\n",
    "lgbmc_clf.fit(x_train, y_train)\n",
    "best_lgb = lgbmc_clf.best_estimator_\n",
    "print(round((time.time() - start_time)/60, 2))\n",
    "best_lgb"
   ]
  },
  {
   "cell_type": "code",
   "execution_count": 20,
   "id": "4e4ff2ff",
   "metadata": {},
   "outputs": [],
   "source": [
    "lgbm_run = lgb.LGBMClassifier(class_weight='balanced', learning_rate=0.025, max_depth=10,\n",
    "               min_child_samples=2, n_estimators=200, random_state=44,\n",
    "               reg_alpha=0.1, reg_lambda=0.5)\n",
    "best_lgb = lgbm_run.fit(x_train, y_train)"
   ]
  },
  {
   "cell_type": "code",
   "execution_count": 21,
   "id": "6f1b511d",
   "metadata": {},
   "outputs": [
    {
     "name": "stdout",
     "output_type": "stream",
     "text": [
      "              precision    recall  f1-score   support\n",
      "\n",
      "           0       0.52      0.51      0.52       589\n",
      "           1       0.50      0.51      0.51       570\n",
      "\n",
      "    accuracy                           0.51      1159\n",
      "   macro avg       0.51      0.51      0.51      1159\n",
      "weighted avg       0.51      0.51      0.51      1159\n",
      "\n"
     ]
    },
    {
     "data": {
      "image/png": "[encoded data removed]",
      "text/plain": [
       "<Figure size 432x288 with 2 Axes>"
      ]
     },
     "metadata": {
      "needs_background": "light"
     },
     "output_type": "display_data"
    }
   ],
   "source": [
    "lgb_preds_pp, lgb_preds, lgb_cv_acc, lgb_cv_prec, lgb_cv_recall, lgb_cv_auc = plot_and_get_metrics(best_lgb)"
   ]
  },
  {
   "cell_type": "code",
   "execution_count": 22,
   "id": "5c3f99dd",
   "metadata": {},
   "outputs": [
    {
     "data": {
      "image/png": "[encoded data removed]",
      "text/plain": [
       "<Figure size 1440x1440 with 1 Axes>"
      ]
     },
     "metadata": {
      "needs_background": "light"
     },
     "output_type": "display_data"
    }
   ],
   "source": [
    "plt.figure(figsize=(20,20))\n",
    "sns.barplot(data=pd.DataFrame({'Feature': x_train.columns, 'Importance': best_lgb.feature_importances_}).\\\n",
    "    sort_values('Importance', ascending=False), x='Importance', y='Feature', color='g').set_title('LGBM')\n",
    "plt.savefig('feat_import_LGBM.png')"
   ]
  },
  {
   "cell_type": "markdown",
   "id": "7b1378d6",
   "metadata": {},
   "source": [
    "### XGBoost"
   ]
  },
  {
   "cell_type": "code",
   "execution_count": 23,
   "id": "634a4999",
   "metadata": {},
   "outputs": [
    {
     "name": "stdout",
     "output_type": "stream",
     "text": [
      "[23:05:53] WARNING: D:\\bld\\xgboost-split_1645118015404\\work\\src\\learner.cc:1115: Starting in XGBoost 1.3.0, the default evaluation metric used with the objective 'binary:logistic' was changed from 'error' to 'logloss'. Explicitly set eval_metric if you'd like to restore the old behavior.\n",
      "9.392348690827687\n"
     ]
    },
    {
     "data": {
      "text/plain": [
       "XGBClassifier(alpha=0.1, base_score=0.5, booster='gbtree', colsample_bylevel=1,\n",
       "              colsample_bynode=1, colsample_bytree=1, enable_categorical=False,\n",
       "              gamma=0, gpu_id=-1, importance_type=None,\n",
       "              interaction_constraints='', lambda=1, learning_rate=0.05,\n",
       "              max_delta_step=0, max_depth=20, min_child_weight=1, missing=nan,\n",
       "              monotone_constraints='()', n_estimators=300, n_jobs=8,\n",
       "              num_parallel_tree=1, predictor='auto', random_state=44,\n",
       "              reg_alpha=0.100000001, reg_lambda=1, scale_pos_weight=4,\n",
       "              subsample=0.75, tree_method='exact', validate_parameters=1,\n",
       "              verbosity=None)"
      ]
     },
     "execution_count": 23,
     "metadata": {},
     "output_type": "execute_result"
    }
   ],
   "source": [
    "import warnings\n",
    "warnings.filterwarnings(\"ignore\")\n",
    "xgb = XGBClassifier(scale_pos_weight=4, random_state=random_state)\n",
    "start_time = time.time()\n",
    "param_grid = {\n",
    "    'n_estimators': [150,250,300],\n",
    "    'learning_rate': [0.05,0.1],\n",
    "    'max_depth': [20,25],\n",
    "    'subsample': [0.5, 0.75],\n",
    "    'alpha': [0.1,1,1.5],\n",
    "    'lambda': [0.5,1,5]\n",
    "}\n",
    "\n",
    "\n",
    "xgb_clf = GridSearchCV(estimator=xgb, param_grid=param_grid, scoring='accuracy', n_jobs=-1)\n",
    "\n",
    "xgb_clf.fit(x_train, y_train)\n",
    "best_xgb = xgb_clf.best_estimator_\n",
    "print((time.time() - start_time)/60)\n",
    "best_xgb"
   ]
  },
  {
   "cell_type": "code",
   "execution_count": 24,
   "id": "1216ff7a",
   "metadata": {},
   "outputs": [],
   "source": [
    "xgb_run = XGBClassifier(base_score=0.5, booster='gbtree', colsample_bylevel=1,\n",
    "              colsample_bynode=1, colsample_bytree=0.8,\n",
    "              enable_categorical=False, eval_metric='error', gamma=0.5,\n",
    "              gpu_id=-1, importance_type=None, interaction_constraints='',\n",
    "              learning_rate=0.025, max_delta_step=0, max_depth=25,\n",
    "              min_child_weight=1, monotone_constraints='()',\n",
    "              n_estimators=200, n_jobs=8, num_parallel_tree=1, predictor='auto',\n",
    "              random_state=44, reg_alpha=0, reg_lambda=1, scale_pos_weight=4,\n",
    "              subsample=0.75, tree_method='exact', validate_parameters=1,\n",
    "              verbosity=None)\n",
    "best_xgb = xgb_run.fit(x_train, y_train)"
   ]
  },
  {
   "cell_type": "code",
   "execution_count": 25,
   "id": "0465d64e",
   "metadata": {},
   "outputs": [
    {
     "name": "stdout",
     "output_type": "stream",
     "text": [
      "              precision    recall  f1-score   support\n",
      "\n",
      "           0       0.52      0.25      0.34       589\n",
      "           1       0.49      0.76      0.60       570\n",
      "\n",
      "    accuracy                           0.50      1159\n",
      "   macro avg       0.51      0.50      0.47      1159\n",
      "weighted avg       0.51      0.50      0.47      1159\n",
      "\n"
     ]
    },
    {
     "data": {
      "image/png": "[encoded data removed]",
      "text/plain": [
       "<Figure size 432x288 with 2 Axes>"
      ]
     },
     "metadata": {
      "needs_background": "light"
     },
     "output_type": "display_data"
    }
   ],
   "source": [
    "xgb_preds_pp, xgb_preds, xgb_cv_acc, xgb_cv_prec, xgb_cv_recall, xgb_cv_auc = plot_and_get_metrics(best_xgb)"
   ]
  },
  {
   "cell_type": "code",
   "execution_count": 26,
   "id": "cabf6abf",
   "metadata": {
    "scrolled": true
   },
   "outputs": [
    {
     "data": {
      "image/png": "[encoded data removed]",
      "text/plain": [
       "<Figure size 1440x1440 with 1 Axes>"
      ]
     },
     "metadata": {
      "needs_background": "light"
     },
     "output_type": "display_data"
    }
   ],
   "source": [
    "plt.figure(figsize=(20,20))\n",
    "sns.barplot(data=pd.DataFrame({'Feature': x_train.columns, 'Importance': best_xgb.feature_importances_}).\\\n",
    "    sort_values('Importance', ascending=False), x='Importance', y='Feature', color='g').set_title('XGB')\n",
    "plt.savefig('feat_import_xgb.png')"
   ]
  },
  {
   "cell_type": "code",
   "execution_count": 27,
   "id": "047afcb6",
   "metadata": {},
   "outputs": [],
   "source": [
    "model_names = ['XGB', 'LGBM', 'RF',  'KNN', 'SVM','NB']\n",
    "cv_accuracy = pd.Series([xgb_cv_acc, lgb_cv_acc, rf_cv_acc, knn_cv_acc, svm_cv_acc, nb_cv_acc], name='Accuracy')\n",
    "cv_recall = pd.Series([xgb_cv_recall, lgb_cv_recall, rf_cv_recall, knn_cv_recall, svm_cv_recall, nb_cv_recall], name='Recall')\n",
    "cv_precision = pd.Series([xgb_cv_prec, lgb_cv_prec, rf_cv_prec, knn_cv_prec, svm_cv_prec, nb_cv_prec],name='Precision')\n",
    "cv_auc = pd.Series([xgb_cv_auc, lgb_cv_auc, rf_cv_auc,  knn_cv_auc, svm_cv_auc, nb_cv_auc], name='AUC')"
   ]
  },
  {
   "cell_type": "code",
   "execution_count": 28,
   "id": "06636609",
   "metadata": {},
   "outputs": [
    {
     "data": {
      "text/html": [
       "<style type=\"text/css\">\n",
       "#T_c3f69_row0_col1, #T_c3f69_row2_col0, #T_c3f69_row2_col2, #T_c3f69_row2_col3 {\n",
       "  background-color: green;\n",
       "}\n",
       "</style>\n",
       "<table id=\"T_c3f69_\">\n",
       "  <thead>\n",
       "    <tr>\n",
       "      <th class=\"blank level0\" >&nbsp;</th>\n",
       "      <th class=\"col_heading level0 col0\" >Accuracy</th>\n",
       "      <th class=\"col_heading level0 col1\" >Recall</th>\n",
       "      <th class=\"col_heading level0 col2\" >Precision</th>\n",
       "      <th class=\"col_heading level0 col3\" >AUC</th>\n",
       "    </tr>\n",
       "  </thead>\n",
       "  <tbody>\n",
       "    <tr>\n",
       "      <th id=\"T_c3f69_level0_row0\" class=\"row_heading level0 row0\" >XGB</th>\n",
       "      <td id=\"T_c3f69_row0_col0\" class=\"data row0 col0\" >0.500431</td>\n",
       "      <td id=\"T_c3f69_row0_col1\" class=\"data row0 col1\" >0.761404</td>\n",
       "      <td id=\"T_c3f69_row0_col2\" class=\"data row0 col2\" >0.494869</td>\n",
       "      <td id=\"T_c3f69_row0_col3\" class=\"data row0 col3\" >0.504641</td>\n",
       "    </tr>\n",
       "    <tr>\n",
       "      <th id=\"T_c3f69_level0_row1\" class=\"row_heading level0 row1\" >LGBM</th>\n",
       "      <td id=\"T_c3f69_row1_col0\" class=\"data row1 col0\" >0.511648</td>\n",
       "      <td id=\"T_c3f69_row1_col1\" class=\"data row1 col1\" >0.512281</td>\n",
       "      <td id=\"T_c3f69_row1_col2\" class=\"data row1 col2\" >0.503448</td>\n",
       "      <td id=\"T_c3f69_row1_col3\" class=\"data row1 col3\" >0.511658</td>\n",
       "    </tr>\n",
       "    <tr>\n",
       "      <th id=\"T_c3f69_level0_row2\" class=\"row_heading level0 row2\" >RF</th>\n",
       "      <td id=\"T_c3f69_row2_col0\" class=\"data row2 col0\" >0.525453</td>\n",
       "      <td id=\"T_c3f69_row2_col1\" class=\"data row2 col1\" >0.524561</td>\n",
       "      <td id=\"T_c3f69_row2_col2\" class=\"data row2 col2\" >0.517301</td>\n",
       "      <td id=\"T_c3f69_row2_col3\" class=\"data row2 col3\" >0.525439</td>\n",
       "    </tr>\n",
       "    <tr>\n",
       "      <th id=\"T_c3f69_level0_row3\" class=\"row_heading level0 row3\" >KNN</th>\n",
       "      <td id=\"T_c3f69_row3_col0\" class=\"data row3 col0\" >0.505608</td>\n",
       "      <td id=\"T_c3f69_row3_col1\" class=\"data row3 col1\" >0.459649</td>\n",
       "      <td id=\"T_c3f69_row3_col2\" class=\"data row3 col2\" >0.497154</td>\n",
       "      <td id=\"T_c3f69_row3_col3\" class=\"data row3 col3\" >0.504867</td>\n",
       "    </tr>\n",
       "    <tr>\n",
       "      <th id=\"T_c3f69_level0_row4\" class=\"row_heading level0 row4\" >SVM</th>\n",
       "      <td id=\"T_c3f69_row4_col0\" class=\"data row4 col0\" >0.500431</td>\n",
       "      <td id=\"T_c3f69_row4_col1\" class=\"data row4 col1\" >0.138596</td>\n",
       "      <td id=\"T_c3f69_row4_col2\" class=\"data row4 col2\" >0.473054</td>\n",
       "      <td id=\"T_c3f69_row4_col3\" class=\"data row4 col3\" >0.494595</td>\n",
       "    </tr>\n",
       "    <tr>\n",
       "      <th id=\"T_c3f69_level0_row5\" class=\"row_heading level0 row5\" >NB</th>\n",
       "      <td id=\"T_c3f69_row5_col0\" class=\"data row5 col0\" >0.493529</td>\n",
       "      <td id=\"T_c3f69_row5_col1\" class=\"data row5 col1\" >0.664912</td>\n",
       "      <td id=\"T_c3f69_row5_col2\" class=\"data row5 col2\" >0.489032</td>\n",
       "      <td id=\"T_c3f69_row5_col3\" class=\"data row5 col3\" >0.496293</td>\n",
       "    </tr>\n",
       "  </tbody>\n",
       "</table>\n"
      ],
      "text/plain": [
       "<pandas.io.formats.style.Styler at 0x1f418f2b910>"
      ]
     },
     "execution_count": 28,
     "metadata": {},
     "output_type": "execute_result"
    }
   ],
   "source": [
    "scores_summary = pd.concat([cv_accuracy, cv_recall, cv_precision, cv_auc], axis=1)\n",
    "scores_summary.columns = ['Accuracy', 'Recall', 'Precision', 'AUC']\n",
    "scores_summary.index = model_names\n",
    "scores_summary.style.highlight_max(color='green', axis=0)"
   ]
  },
  {
   "cell_type": "code",
   "execution_count": 29,
   "id": "798b1e8b",
   "metadata": {},
   "outputs": [
    {
     "data": {
      "text/html": [
       "<div>\n",
       "<style scoped>\n",
       "    .dataframe tbody tr th:only-of-type {\n",
       "        vertical-align: middle;\n",
       "    }\n",
       "\n",
       "    .dataframe tbody tr th {\n",
       "        vertical-align: top;\n",
       "    }\n",
       "\n",
       "    .dataframe thead th {\n",
       "        text-align: right;\n",
       "    }\n",
       "</style>\n",
       "<table border=\"1\" class=\"dataframe\">\n",
       "  <thead>\n",
       "    <tr style=\"text-align: right;\">\n",
       "      <th></th>\n",
       "      <th>true</th>\n",
       "      <th>knn_preds_pp</th>\n",
       "      <th>rf_preds_pp</th>\n",
       "      <th>lgb_preds_pp</th>\n",
       "      <th>xgb_preds_pp</th>\n",
       "      <th>nb_preds_pp</th>\n",
       "      <th>svm_preds_pp</th>\n",
       "    </tr>\n",
       "  </thead>\n",
       "  <tbody>\n",
       "    <tr>\n",
       "      <th>1524</th>\n",
       "      <td>0</td>\n",
       "      <td>0.574237</td>\n",
       "      <td>0.559987</td>\n",
       "      <td>0.682274</td>\n",
       "      <td>0.771202</td>\n",
       "      <td>0.635564</td>\n",
       "      <td>0.493167</td>\n",
       "    </tr>\n",
       "    <tr>\n",
       "      <th>218</th>\n",
       "      <td>1</td>\n",
       "      <td>0.459179</td>\n",
       "      <td>0.361550</td>\n",
       "      <td>0.302648</td>\n",
       "      <td>0.255885</td>\n",
       "      <td>0.006237</td>\n",
       "      <td>0.457371</td>\n",
       "    </tr>\n",
       "    <tr>\n",
       "      <th>1039</th>\n",
       "      <td>0</td>\n",
       "      <td>0.617017</td>\n",
       "      <td>0.453392</td>\n",
       "      <td>0.288789</td>\n",
       "      <td>0.666402</td>\n",
       "      <td>0.791332</td>\n",
       "      <td>0.517977</td>\n",
       "    </tr>\n",
       "    <tr>\n",
       "      <th>1229</th>\n",
       "      <td>0</td>\n",
       "      <td>0.652599</td>\n",
       "      <td>0.443908</td>\n",
       "      <td>0.203940</td>\n",
       "      <td>0.301594</td>\n",
       "      <td>0.738815</td>\n",
       "      <td>0.552466</td>\n",
       "    </tr>\n",
       "    <tr>\n",
       "      <th>61</th>\n",
       "      <td>1</td>\n",
       "      <td>0.586783</td>\n",
       "      <td>0.512780</td>\n",
       "      <td>0.739077</td>\n",
       "      <td>0.500567</td>\n",
       "      <td>0.723960</td>\n",
       "      <td>0.500000</td>\n",
       "    </tr>\n",
       "  </tbody>\n",
       "</table>\n",
       "</div>"
      ],
      "text/plain": [
       "      true  knn_preds_pp  rf_preds_pp  lgb_preds_pp  xgb_preds_pp  \\\n",
       "1524     0      0.574237     0.559987      0.682274      0.771202   \n",
       "218      1      0.459179     0.361550      0.302648      0.255885   \n",
       "1039     0      0.617017     0.453392      0.288789      0.666402   \n",
       "1229     0      0.652599     0.443908      0.203940      0.301594   \n",
       "61       1      0.586783     0.512780      0.739077      0.500567   \n",
       "\n",
       "      nb_preds_pp  svm_preds_pp  \n",
       "1524     0.635564      0.493167  \n",
       "218      0.006237      0.457371  \n",
       "1039     0.791332      0.517977  \n",
       "1229     0.738815      0.552466  \n",
       "61       0.723960      0.500000  "
      ]
     },
     "execution_count": 29,
     "metadata": {},
     "output_type": "execute_result"
    }
   ],
   "source": [
    "comp_df = pd.DataFrame({'true': y_train, 'knn_preds_pp': knn_preds_pp, 'rf_preds_pp': rf_preds_pp,\\\n",
    "                        'lgb_preds_pp':lgb_preds_pp,'xgb_preds_pp':xgb_preds_pp ,'nb_preds_pp':nb_preds_pp,\\\n",
    "                        'svm_preds_pp': svm_preds_pp})\n",
    "comp_df.head()"
   ]
  },
  {
   "cell_type": "markdown",
   "id": "b21b6fef",
   "metadata": {},
   "source": [
    "Only bet when our model probability is higher than Vegas' implied probability. If both higher than Vegas, take the one with higher margin."
   ]
  },
  {
   "cell_type": "code",
   "execution_count": 30,
   "id": "065438d9",
   "metadata": {},
   "outputs": [],
   "source": [
    "def under_return(df):\n",
    "    if (df['bet_under'] and (df['true'] == 1)):\n",
    "        return -100\n",
    "    elif (df['bet_under'] & (df['true'] == 0)):\n",
    "        #standard offer odds of -110 on the bet\n",
    "        return round((100/-110)*-100,2)\n",
    "    else: \n",
    "        return 0\n",
    "    \n",
    "def over_return(df):\n",
    "    if (df['bet_over'] and (df['true'] == 0)):\n",
    "        return -100\n",
    "    elif (df['bet_over'] & (df['true'] == 1)):\n",
    "        return round((100/-110)*-100,2)\n",
    "    else: \n",
    "        return 0\n",
    "def pred_vs_vegas(model_preds, comp, margin = 0):\n",
    "    '''\n",
    "    \n",
    "    :param margin: margin between our predictions and vegas predictions to trigger making a bet (example: 0.05)\n",
    "    :param comp: comparison dataframe to use for function (train or test predictions)\n",
    "    :param model_preds: model column name of prediction probability\n",
    "    :return:% return, $ risked, total $ returned\n",
    "    '''\n",
    "    #create working dataframe\n",
    "    df_w = comp[['true',model_preds]]\n",
    "    \n",
    "    #calculate differential of our predictions vs standard -110 offer (translates to 52.38% probability)\n",
    "    df_w['over_prob_adv'] = df_w[model_preds] - 0.5238\n",
    "    df_w['under_prob_adv'] = (1-df_w[model_preds]) - 0.5238\n",
    "    \n",
    "    #flag whether the home differential is higher than the away differential\n",
    "    df_w['over_adv_higher'] = df_w['over_prob_adv'] > df_w['under_prob_adv']\n",
    "    \n",
    "    #flag whether to bet on the home or away team\n",
    "    df_w['bet_over'] = np.where((df_w['over_adv_higher'] & (df_w['over_prob_adv']>margin)), True, False)\n",
    "    df_w['bet_under'] = np.where(((df_w['bet_over'] == False) & (df_w['under_prob_adv']>margin)), True, False)\n",
    "    \n",
    "    #generate bet returns\n",
    "    df_w['over_risk'] = np.where(df_w['bet_over'], 100, 0)\n",
    "    df_w['under_risk'] = np.where(df_w['bet_under'], 100, 0)\n",
    "    df_w['under_return'] = df_w.apply(under_return, axis = 1)\n",
    "    df_w['over_return'] = df_w.apply(over_return, axis = 1)\n",
    "    \n",
    "    #aggregate risks and returns\n",
    "    df_w['risk'] = df_w['over_risk'] + df_w['under_risk']\n",
    "    df_w['return'] = df_w['over_return'] + df_w['under_return']\n",
    "    \n",
    "    return df_w\n",
    "\n",
    "def aggregate_returns(df_w):\n",
    "    return df_w['risk'].sum(),df_w['return'].sum(),(df_w['return'].sum()/df_w['risk'].sum())"
   ]
  },
  {
   "cell_type": "code",
   "execution_count": 31,
   "id": "e651cc63",
   "metadata": {},
   "outputs": [],
   "source": [
    "final_models = ['knn_preds_pp','svm_preds_pp','nb_preds_pp','rf_preds_pp','xgb_preds_pp','lgb_preds_pp']"
   ]
  },
  {
   "cell_type": "code",
   "execution_count": 32,
   "id": "ee5ff2f3",
   "metadata": {},
   "outputs": [],
   "source": [
    "mod_risk = []\n",
    "mod_ret = []\n",
    "mod_pct_ret = []\n",
    "models = []\n",
    "margins = []\n",
    "for model in final_models:\n",
    "    for margin in np.arange(0,.2,0.01):\n",
    "        df = pred_vs_vegas(model,comp_df,margin)\n",
    "        risk, ret, pct = aggregate_returns(df)\n",
    "        mod_risk.append(risk)\n",
    "        mod_ret.append(ret)\n",
    "        mod_pct_ret.append(pct)\n",
    "        models.append(model)\n",
    "        margins.append(margin)\n",
    "\n",
    "higher_exp_val_df = pd.DataFrame({'model':models,'margin': margins, 'pct_ret': mod_pct_ret, 'risked':mod_risk, 'dollar_ret':mod_ret})"
   ]
  },
  {
   "cell_type": "code",
   "execution_count": 33,
   "id": "160c09de",
   "metadata": {},
   "outputs": [
    {
     "data": {
      "image/png": "[encoded data removed]",
      "text/plain": [
       "<Figure size 720x432 with 1 Axes>"
      ]
     },
     "metadata": {
      "needs_background": "light"
     },
     "output_type": "display_data"
    }
   ],
   "source": [
    "plt.figure(figsize=(10,6))\n",
    "sns.lineplot(x='margin', y='pct_ret', hue='model', data=higher_exp_val_df)\n",
    "plt.suptitle('% Return on O/U Bets per Model by Margin', size=16)\n",
    "plt.legend(loc='lower left')\n",
    "plt.savefig('strat_3_ret.png')"
   ]
  },
  {
   "cell_type": "code",
   "execution_count": 44,
   "id": "b679dc93",
   "metadata": {},
   "outputs": [
    {
     "data": {
      "text/html": [
       "<div>\n",
       "<style scoped>\n",
       "    .dataframe tbody tr th:only-of-type {\n",
       "        vertical-align: middle;\n",
       "    }\n",
       "\n",
       "    .dataframe tbody tr th {\n",
       "        vertical-align: top;\n",
       "    }\n",
       "\n",
       "    .dataframe thead th {\n",
       "        text-align: right;\n",
       "    }\n",
       "</style>\n",
       "<table border=\"1\" class=\"dataframe\">\n",
       "  <thead>\n",
       "    <tr style=\"text-align: right;\">\n",
       "      <th></th>\n",
       "      <th>model</th>\n",
       "      <th>margin</th>\n",
       "      <th>pct_ret</th>\n",
       "      <th>risked</th>\n",
       "      <th>dollar_ret</th>\n",
       "    </tr>\n",
       "  </thead>\n",
       "  <tbody>\n",
       "    <tr>\n",
       "      <th>80</th>\n",
       "      <td>xgb_preds_pp</td>\n",
       "      <td>0.00</td>\n",
       "      <td>-0.042796</td>\n",
       "      <td>107900</td>\n",
       "      <td>-4617.69</td>\n",
       "    </tr>\n",
       "    <tr>\n",
       "      <th>81</th>\n",
       "      <td>xgb_preds_pp</td>\n",
       "      <td>0.01</td>\n",
       "      <td>-0.036376</td>\n",
       "      <td>105200</td>\n",
       "      <td>-3826.79</td>\n",
       "    </tr>\n",
       "    <tr>\n",
       "      <th>82</th>\n",
       "      <td>xgb_preds_pp</td>\n",
       "      <td>0.02</td>\n",
       "      <td>-0.035186</td>\n",
       "      <td>102300</td>\n",
       "      <td>-3599.53</td>\n",
       "    </tr>\n",
       "    <tr>\n",
       "      <th>83</th>\n",
       "      <td>xgb_preds_pp</td>\n",
       "      <td>0.03</td>\n",
       "      <td>-0.028942</td>\n",
       "      <td>98300</td>\n",
       "      <td>-2845.00</td>\n",
       "    </tr>\n",
       "    <tr>\n",
       "      <th>84</th>\n",
       "      <td>xgb_preds_pp</td>\n",
       "      <td>0.04</td>\n",
       "      <td>-0.027364</td>\n",
       "      <td>95000</td>\n",
       "      <td>-2599.56</td>\n",
       "    </tr>\n",
       "    <tr>\n",
       "      <th>85</th>\n",
       "      <td>xgb_preds_pp</td>\n",
       "      <td>0.05</td>\n",
       "      <td>-0.033080</td>\n",
       "      <td>92600</td>\n",
       "      <td>-3063.21</td>\n",
       "    </tr>\n",
       "    <tr>\n",
       "      <th>86</th>\n",
       "      <td>xgb_preds_pp</td>\n",
       "      <td>0.06</td>\n",
       "      <td>-0.042258</td>\n",
       "      <td>89700</td>\n",
       "      <td>-3790.50</td>\n",
       "    </tr>\n",
       "    <tr>\n",
       "      <th>87</th>\n",
       "      <td>xgb_preds_pp</td>\n",
       "      <td>0.07</td>\n",
       "      <td>-0.059796</td>\n",
       "      <td>86500</td>\n",
       "      <td>-5172.34</td>\n",
       "    </tr>\n",
       "    <tr>\n",
       "      <th>88</th>\n",
       "      <td>xgb_preds_pp</td>\n",
       "      <td>0.08</td>\n",
       "      <td>-0.056868</td>\n",
       "      <td>83600</td>\n",
       "      <td>-4754.17</td>\n",
       "    </tr>\n",
       "    <tr>\n",
       "      <th>89</th>\n",
       "      <td>xgb_preds_pp</td>\n",
       "      <td>0.09</td>\n",
       "      <td>-0.060942</td>\n",
       "      <td>80100</td>\n",
       "      <td>-4881.46</td>\n",
       "    </tr>\n",
       "    <tr>\n",
       "      <th>90</th>\n",
       "      <td>xgb_preds_pp</td>\n",
       "      <td>0.10</td>\n",
       "      <td>-0.066774</td>\n",
       "      <td>76100</td>\n",
       "      <td>-5081.48</td>\n",
       "    </tr>\n",
       "    <tr>\n",
       "      <th>91</th>\n",
       "      <td>xgb_preds_pp</td>\n",
       "      <td>0.11</td>\n",
       "      <td>-0.066662</td>\n",
       "      <td>72000</td>\n",
       "      <td>-4799.68</td>\n",
       "    </tr>\n",
       "    <tr>\n",
       "      <th>92</th>\n",
       "      <td>xgb_preds_pp</td>\n",
       "      <td>0.12</td>\n",
       "      <td>-0.060779</td>\n",
       "      <td>68500</td>\n",
       "      <td>-4163.33</td>\n",
       "    </tr>\n",
       "    <tr>\n",
       "      <th>93</th>\n",
       "      <td>xgb_preds_pp</td>\n",
       "      <td>0.13</td>\n",
       "      <td>-0.070454</td>\n",
       "      <td>64900</td>\n",
       "      <td>-4572.44</td>\n",
       "    </tr>\n",
       "    <tr>\n",
       "      <th>94</th>\n",
       "      <td>xgb_preds_pp</td>\n",
       "      <td>0.14</td>\n",
       "      <td>-0.069847</td>\n",
       "      <td>62600</td>\n",
       "      <td>-4372.45</td>\n",
       "    </tr>\n",
       "    <tr>\n",
       "      <th>95</th>\n",
       "      <td>xgb_preds_pp</td>\n",
       "      <td>0.15</td>\n",
       "      <td>-0.075829</td>\n",
       "      <td>59700</td>\n",
       "      <td>-4527.01</td>\n",
       "    </tr>\n",
       "    <tr>\n",
       "      <th>96</th>\n",
       "      <td>xgb_preds_pp</td>\n",
       "      <td>0.16</td>\n",
       "      <td>-0.068813</td>\n",
       "      <td>57200</td>\n",
       "      <td>-3936.11</td>\n",
       "    </tr>\n",
       "    <tr>\n",
       "      <th>97</th>\n",
       "      <td>xgb_preds_pp</td>\n",
       "      <td>0.17</td>\n",
       "      <td>-0.086641</td>\n",
       "      <td>53300</td>\n",
       "      <td>-4617.95</td>\n",
       "    </tr>\n",
       "    <tr>\n",
       "      <th>98</th>\n",
       "      <td>xgb_preds_pp</td>\n",
       "      <td>0.18</td>\n",
       "      <td>-0.090725</td>\n",
       "      <td>50600</td>\n",
       "      <td>-4590.69</td>\n",
       "    </tr>\n",
       "    <tr>\n",
       "      <th>99</th>\n",
       "      <td>xgb_preds_pp</td>\n",
       "      <td>0.19</td>\n",
       "      <td>-0.076876</td>\n",
       "      <td>48600</td>\n",
       "      <td>-3736.15</td>\n",
       "    </tr>\n",
       "  </tbody>\n",
       "</table>\n",
       "</div>"
      ],
      "text/plain": [
       "           model  margin   pct_ret  risked  dollar_ret\n",
       "80  xgb_preds_pp    0.00 -0.042796  107900    -4617.69\n",
       "81  xgb_preds_pp    0.01 -0.036376  105200    -3826.79\n",
       "82  xgb_preds_pp    0.02 -0.035186  102300    -3599.53\n",
       "83  xgb_preds_pp    0.03 -0.028942   98300    -2845.00\n",
       "84  xgb_preds_pp    0.04 -0.027364   95000    -2599.56\n",
       "85  xgb_preds_pp    0.05 -0.033080   92600    -3063.21\n",
       "86  xgb_preds_pp    0.06 -0.042258   89700    -3790.50\n",
       "87  xgb_preds_pp    0.07 -0.059796   86500    -5172.34\n",
       "88  xgb_preds_pp    0.08 -0.056868   83600    -4754.17\n",
       "89  xgb_preds_pp    0.09 -0.060942   80100    -4881.46\n",
       "90  xgb_preds_pp    0.10 -0.066774   76100    -5081.48\n",
       "91  xgb_preds_pp    0.11 -0.066662   72000    -4799.68\n",
       "92  xgb_preds_pp    0.12 -0.060779   68500    -4163.33\n",
       "93  xgb_preds_pp    0.13 -0.070454   64900    -4572.44\n",
       "94  xgb_preds_pp    0.14 -0.069847   62600    -4372.45\n",
       "95  xgb_preds_pp    0.15 -0.075829   59700    -4527.01\n",
       "96  xgb_preds_pp    0.16 -0.068813   57200    -3936.11\n",
       "97  xgb_preds_pp    0.17 -0.086641   53300    -4617.95\n",
       "98  xgb_preds_pp    0.18 -0.090725   50600    -4590.69\n",
       "99  xgb_preds_pp    0.19 -0.076876   48600    -3736.15"
      ]
     },
     "execution_count": 44,
     "metadata": {},
     "output_type": "execute_result"
    }
   ],
   "source": [
    "higher_exp_val_df.loc[higher_exp_val_df['model'] == 'xgb_preds_pp']"
   ]
  },
  {
   "cell_type": "code",
   "execution_count": 35,
   "id": "4c675d6c",
   "metadata": {},
   "outputs": [
    {
     "data": {
      "text/html": [
       "<div>\n",
       "<style scoped>\n",
       "    .dataframe tbody tr th:only-of-type {\n",
       "        vertical-align: middle;\n",
       "    }\n",
       "\n",
       "    .dataframe tbody tr th {\n",
       "        vertical-align: top;\n",
       "    }\n",
       "\n",
       "    .dataframe thead th {\n",
       "        text-align: right;\n",
       "    }\n",
       "</style>\n",
       "<table border=\"1\" class=\"dataframe\">\n",
       "  <thead>\n",
       "    <tr style=\"text-align: right;\">\n",
       "      <th></th>\n",
       "      <th>true</th>\n",
       "      <th>knn_preds_pp</th>\n",
       "      <th>rf_preds_pp</th>\n",
       "      <th>lgb_preds_pp</th>\n",
       "      <th>xgb_preds_pp</th>\n",
       "      <th>nb_preds_pp</th>\n",
       "      <th>svm_preds_pp</th>\n",
       "    </tr>\n",
       "  </thead>\n",
       "  <tbody>\n",
       "    <tr>\n",
       "      <th>1552</th>\n",
       "      <td>0</td>\n",
       "      <td>0.561051</td>\n",
       "      <td>0.654624</td>\n",
       "      <td>0.582932</td>\n",
       "      <td>0.858019</td>\n",
       "      <td>0.592908</td>\n",
       "      <td>0.490725</td>\n",
       "    </tr>\n",
       "    <tr>\n",
       "      <th>1553</th>\n",
       "      <td>0</td>\n",
       "      <td>0.330413</td>\n",
       "      <td>0.350331</td>\n",
       "      <td>0.268958</td>\n",
       "      <td>0.281931</td>\n",
       "      <td>0.499178</td>\n",
       "      <td>0.494435</td>\n",
       "    </tr>\n",
       "    <tr>\n",
       "      <th>1554</th>\n",
       "      <td>0</td>\n",
       "      <td>0.467447</td>\n",
       "      <td>0.426394</td>\n",
       "      <td>0.213005</td>\n",
       "      <td>0.414488</td>\n",
       "      <td>0.701843</td>\n",
       "      <td>0.493939</td>\n",
       "    </tr>\n",
       "    <tr>\n",
       "      <th>1555</th>\n",
       "      <td>1</td>\n",
       "      <td>0.442951</td>\n",
       "      <td>0.445769</td>\n",
       "      <td>0.492713</td>\n",
       "      <td>0.618574</td>\n",
       "      <td>0.665853</td>\n",
       "      <td>0.494377</td>\n",
       "    </tr>\n",
       "    <tr>\n",
       "      <th>1556</th>\n",
       "      <td>0</td>\n",
       "      <td>0.532872</td>\n",
       "      <td>0.514398</td>\n",
       "      <td>0.575656</td>\n",
       "      <td>0.823464</td>\n",
       "      <td>0.689450</td>\n",
       "      <td>0.493043</td>\n",
       "    </tr>\n",
       "  </tbody>\n",
       "</table>\n",
       "</div>"
      ],
      "text/plain": [
       "      true  knn_preds_pp  rf_preds_pp  lgb_preds_pp  xgb_preds_pp  \\\n",
       "1552     0      0.561051     0.654624      0.582932      0.858019   \n",
       "1553     0      0.330413     0.350331      0.268958      0.281931   \n",
       "1554     0      0.467447     0.426394      0.213005      0.414488   \n",
       "1555     1      0.442951     0.445769      0.492713      0.618574   \n",
       "1556     0      0.532872     0.514398      0.575656      0.823464   \n",
       "\n",
       "      nb_preds_pp  svm_preds_pp  \n",
       "1552     0.592908      0.490725  \n",
       "1553     0.499178      0.494435  \n",
       "1554     0.701843      0.493939  \n",
       "1555     0.665853      0.494377  \n",
       "1556     0.689450      0.493043  "
      ]
     },
     "execution_count": 35,
     "metadata": {},
     "output_type": "execute_result"
    }
   ],
   "source": [
    "comp_df2 = pd.DataFrame({'true': games_2022['home_win'], 'knn_preds_pp': best_knn.predict_proba(games_2022.filter(pred_cols).fillna(0))[:,1],\\\n",
    "                        'rf_preds_pp': best_rf.predict_proba(games_2022.filter(pred_cols).fillna(0))[:,1],\\\n",
    "                        'lgb_preds_pp':best_lgb.predict_proba(games_2022.filter(pred_cols).fillna(0))[:,1],\\\n",
    "                        'xgb_preds_pp':best_xgb.predict_proba(games_2022.filter(pred_cols).fillna(0))[:,1],\\\n",
    "                        'nb_preds_pp':best_nb.predict_proba(games_2022.filter(pred_cols).fillna(0))[:,1],\\\n",
    "                        'svm_preds_pp':best_svm.predict_proba(scaler.transform(games_2022.filter(pred_cols).fillna(0)))[:,1]})\n",
    "comp_df2.head()"
   ]
  },
  {
   "cell_type": "code",
   "execution_count": 36,
   "id": "60107aab",
   "metadata": {},
   "outputs": [],
   "source": [
    "mod_risk = []\n",
    "mod_ret = []\n",
    "mod_pct_ret = []\n",
    "models = []\n",
    "margins = []\n",
    "for model in final_models:\n",
    "    for margin in np.arange(0,.2,0.01):\n",
    "        df = pred_vs_vegas(model,comp_df2,margin)\n",
    "        risk, ret, pct = aggregate_returns(df)\n",
    "        mod_risk.append(risk)\n",
    "        mod_ret.append(ret)\n",
    "        mod_pct_ret.append(pct)\n",
    "        models.append(model)\n",
    "        margins.append(margin)\n",
    "\n",
    "higher_exp_val_df2 = pd.DataFrame({'model':models,'margin': margins, 'pct_ret': mod_pct_ret, 'risked':mod_risk, 'dollar_ret':mod_ret})"
   ]
  },
  {
   "cell_type": "code",
   "execution_count": 47,
   "id": "fc3aeaf8",
   "metadata": {},
   "outputs": [
    {
     "data": {
      "image/png": "[encoded data removed]",
      "text/plain": [
       "<Figure size 720x432 with 1 Axes>"
      ]
     },
     "metadata": {
      "needs_background": "light"
     },
     "output_type": "display_data"
    }
   ],
   "source": [
    "plt.figure(figsize=(10,6))\n",
    "sns.lineplot(x='margin', y='pct_ret', hue='model', data=higher_exp_val_df2)\n",
    "plt.suptitle('% Return on O/U per Model by Margin in 2022', size=16)\n",
    "plt.legend(loc='upper left')\n",
    "plt.savefig('strat_3_ret.png')"
   ]
  },
  {
   "cell_type": "code",
   "execution_count": 48,
   "id": "8bb132a0",
   "metadata": {},
   "outputs": [
    {
     "data": {
      "text/html": [
       "<div>\n",
       "<style scoped>\n",
       "    .dataframe tbody tr th:only-of-type {\n",
       "        vertical-align: middle;\n",
       "    }\n",
       "\n",
       "    .dataframe tbody tr th {\n",
       "        vertical-align: top;\n",
       "    }\n",
       "\n",
       "    .dataframe thead th {\n",
       "        text-align: right;\n",
       "    }\n",
       "</style>\n",
       "<table border=\"1\" class=\"dataframe\">\n",
       "  <thead>\n",
       "    <tr style=\"text-align: right;\">\n",
       "      <th></th>\n",
       "      <th>model</th>\n",
       "      <th>margin</th>\n",
       "      <th>pct_ret</th>\n",
       "      <th>risked</th>\n",
       "      <th>dollar_ret</th>\n",
       "    </tr>\n",
       "  </thead>\n",
       "  <tbody>\n",
       "    <tr>\n",
       "      <th>20</th>\n",
       "      <td>svm_preds_pp</td>\n",
       "      <td>0.00</td>\n",
       "      <td>NaN</td>\n",
       "      <td>0</td>\n",
       "      <td>0.0</td>\n",
       "    </tr>\n",
       "    <tr>\n",
       "      <th>21</th>\n",
       "      <td>svm_preds_pp</td>\n",
       "      <td>0.01</td>\n",
       "      <td>NaN</td>\n",
       "      <td>0</td>\n",
       "      <td>0.0</td>\n",
       "    </tr>\n",
       "    <tr>\n",
       "      <th>22</th>\n",
       "      <td>svm_preds_pp</td>\n",
       "      <td>0.02</td>\n",
       "      <td>NaN</td>\n",
       "      <td>0</td>\n",
       "      <td>0.0</td>\n",
       "    </tr>\n",
       "    <tr>\n",
       "      <th>23</th>\n",
       "      <td>svm_preds_pp</td>\n",
       "      <td>0.03</td>\n",
       "      <td>NaN</td>\n",
       "      <td>0</td>\n",
       "      <td>0.0</td>\n",
       "    </tr>\n",
       "    <tr>\n",
       "      <th>24</th>\n",
       "      <td>svm_preds_pp</td>\n",
       "      <td>0.04</td>\n",
       "      <td>NaN</td>\n",
       "      <td>0</td>\n",
       "      <td>0.0</td>\n",
       "    </tr>\n",
       "    <tr>\n",
       "      <th>25</th>\n",
       "      <td>svm_preds_pp</td>\n",
       "      <td>0.05</td>\n",
       "      <td>NaN</td>\n",
       "      <td>0</td>\n",
       "      <td>0.0</td>\n",
       "    </tr>\n",
       "    <tr>\n",
       "      <th>26</th>\n",
       "      <td>svm_preds_pp</td>\n",
       "      <td>0.06</td>\n",
       "      <td>NaN</td>\n",
       "      <td>0</td>\n",
       "      <td>0.0</td>\n",
       "    </tr>\n",
       "    <tr>\n",
       "      <th>27</th>\n",
       "      <td>svm_preds_pp</td>\n",
       "      <td>0.07</td>\n",
       "      <td>NaN</td>\n",
       "      <td>0</td>\n",
       "      <td>0.0</td>\n",
       "    </tr>\n",
       "    <tr>\n",
       "      <th>28</th>\n",
       "      <td>svm_preds_pp</td>\n",
       "      <td>0.08</td>\n",
       "      <td>NaN</td>\n",
       "      <td>0</td>\n",
       "      <td>0.0</td>\n",
       "    </tr>\n",
       "    <tr>\n",
       "      <th>29</th>\n",
       "      <td>svm_preds_pp</td>\n",
       "      <td>0.09</td>\n",
       "      <td>NaN</td>\n",
       "      <td>0</td>\n",
       "      <td>0.0</td>\n",
       "    </tr>\n",
       "    <tr>\n",
       "      <th>30</th>\n",
       "      <td>svm_preds_pp</td>\n",
       "      <td>0.10</td>\n",
       "      <td>NaN</td>\n",
       "      <td>0</td>\n",
       "      <td>0.0</td>\n",
       "    </tr>\n",
       "    <tr>\n",
       "      <th>31</th>\n",
       "      <td>svm_preds_pp</td>\n",
       "      <td>0.11</td>\n",
       "      <td>NaN</td>\n",
       "      <td>0</td>\n",
       "      <td>0.0</td>\n",
       "    </tr>\n",
       "    <tr>\n",
       "      <th>32</th>\n",
       "      <td>svm_preds_pp</td>\n",
       "      <td>0.12</td>\n",
       "      <td>NaN</td>\n",
       "      <td>0</td>\n",
       "      <td>0.0</td>\n",
       "    </tr>\n",
       "    <tr>\n",
       "      <th>33</th>\n",
       "      <td>svm_preds_pp</td>\n",
       "      <td>0.13</td>\n",
       "      <td>NaN</td>\n",
       "      <td>0</td>\n",
       "      <td>0.0</td>\n",
       "    </tr>\n",
       "    <tr>\n",
       "      <th>34</th>\n",
       "      <td>svm_preds_pp</td>\n",
       "      <td>0.14</td>\n",
       "      <td>NaN</td>\n",
       "      <td>0</td>\n",
       "      <td>0.0</td>\n",
       "    </tr>\n",
       "    <tr>\n",
       "      <th>35</th>\n",
       "      <td>svm_preds_pp</td>\n",
       "      <td>0.15</td>\n",
       "      <td>NaN</td>\n",
       "      <td>0</td>\n",
       "      <td>0.0</td>\n",
       "    </tr>\n",
       "    <tr>\n",
       "      <th>36</th>\n",
       "      <td>svm_preds_pp</td>\n",
       "      <td>0.16</td>\n",
       "      <td>NaN</td>\n",
       "      <td>0</td>\n",
       "      <td>0.0</td>\n",
       "    </tr>\n",
       "    <tr>\n",
       "      <th>37</th>\n",
       "      <td>svm_preds_pp</td>\n",
       "      <td>0.17</td>\n",
       "      <td>NaN</td>\n",
       "      <td>0</td>\n",
       "      <td>0.0</td>\n",
       "    </tr>\n",
       "    <tr>\n",
       "      <th>38</th>\n",
       "      <td>svm_preds_pp</td>\n",
       "      <td>0.18</td>\n",
       "      <td>NaN</td>\n",
       "      <td>0</td>\n",
       "      <td>0.0</td>\n",
       "    </tr>\n",
       "    <tr>\n",
       "      <th>39</th>\n",
       "      <td>svm_preds_pp</td>\n",
       "      <td>0.19</td>\n",
       "      <td>NaN</td>\n",
       "      <td>0</td>\n",
       "      <td>0.0</td>\n",
       "    </tr>\n",
       "  </tbody>\n",
       "</table>\n",
       "</div>"
      ],
      "text/plain": [
       "           model  margin  pct_ret  risked  dollar_ret\n",
       "20  svm_preds_pp    0.00      NaN       0         0.0\n",
       "21  svm_preds_pp    0.01      NaN       0         0.0\n",
       "22  svm_preds_pp    0.02      NaN       0         0.0\n",
       "23  svm_preds_pp    0.03      NaN       0         0.0\n",
       "24  svm_preds_pp    0.04      NaN       0         0.0\n",
       "25  svm_preds_pp    0.05      NaN       0         0.0\n",
       "26  svm_preds_pp    0.06      NaN       0         0.0\n",
       "27  svm_preds_pp    0.07      NaN       0         0.0\n",
       "28  svm_preds_pp    0.08      NaN       0         0.0\n",
       "29  svm_preds_pp    0.09      NaN       0         0.0\n",
       "30  svm_preds_pp    0.10      NaN       0         0.0\n",
       "31  svm_preds_pp    0.11      NaN       0         0.0\n",
       "32  svm_preds_pp    0.12      NaN       0         0.0\n",
       "33  svm_preds_pp    0.13      NaN       0         0.0\n",
       "34  svm_preds_pp    0.14      NaN       0         0.0\n",
       "35  svm_preds_pp    0.15      NaN       0         0.0\n",
       "36  svm_preds_pp    0.16      NaN       0         0.0\n",
       "37  svm_preds_pp    0.17      NaN       0         0.0\n",
       "38  svm_preds_pp    0.18      NaN       0         0.0\n",
       "39  svm_preds_pp    0.19      NaN       0         0.0"
      ]
     },
     "execution_count": 48,
     "metadata": {},
     "output_type": "execute_result"
    }
   ],
   "source": [
    "higher_exp_val_df2.loc[higher_exp_val_df2['model'] == 'svm_preds_pp']"
   ]
  }
 ],
 "metadata": {
  "kernelspec": {
   "display_name": "Python 3 (ipykernel)",
   "language": "python",
   "name": "python3"
  },
  "language_info": {
   "codemirror_mode": {
    "name": "ipython",
    "version": 3
   },
   "file_extension": ".py",
   "mimetype": "text/x-python",
   "name": "python",
   "nbconvert_exporter": "python",
   "pygments_lexer": "ipython3",
   "version": "3.8.8"
  }
 },
 "nbformat": 4,
 "nbformat_minor": 5
}
